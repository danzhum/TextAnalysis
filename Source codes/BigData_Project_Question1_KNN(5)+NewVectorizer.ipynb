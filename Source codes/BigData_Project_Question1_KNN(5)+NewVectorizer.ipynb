{
  "nbformat": 4,
  "nbformat_minor": 0,
  "metadata": {
    "colab": {
      "name": "BigData_Project_Question1_KNN(5)+NewVectorizer.ipynb",
      "provenance": [],
      "collapsed_sections": []
    },
    "kernelspec": {
      "display_name": "Python 3",
      "name": "python3"
    }
  },
  "cells": [
    {
      "cell_type": "markdown",
      "metadata": {
        "id": "sHcoA-lyH_uH"
      },
      "source": [
        "# **Question 1b:​ Classification Task with a modified vectorizer**"
      ]
    },
    {
      "cell_type": "code",
      "metadata": {
        "id": "mfOrgNdtAh_G"
      },
      "source": [
        "import pandas as pd\n",
        "import numpy as np"
      ],
      "execution_count": null,
      "outputs": []
    },
    {
      "cell_type": "code",
      "metadata": {
        "colab": {
          "base_uri": "https://localhost:8080/"
        },
        "id": "S9Hzuq6dx78D",
        "outputId": "8aea86ef-eeed-4cb3-988f-b08d926f3565"
      },
      "source": [
        "from google.colab import drive\n",
        "drive.mount('/content/drive')"
      ],
      "execution_count": null,
      "outputs": [
        {
          "output_type": "stream",
          "text": [
            "Mounted at /content/drive\n"
          ],
          "name": "stdout"
        }
      ]
    },
    {
      "cell_type": "markdown",
      "metadata": {
        "id": "wZv69_OVzB01"
      },
      "source": [
        "Loading train data"
      ]
    },
    {
      "cell_type": "code",
      "metadata": {
        "colab": {
          "base_uri": "https://localhost:8080/",
          "height": 399
        },
        "id": "l-DRPVwTAzGL",
        "outputId": "0046322d-b6a6-4b58-e8c6-4850bd2b016b"
      },
      "source": [
        "# df = pd.read_csv(\"train.csv\")\n",
        "df = pd.read_csv('/content/drive/MyDrive/datasets-data analysis/data/q1/train.csv')\n",
        "df"
      ],
      "execution_count": null,
      "outputs": [
        {
          "output_type": "execute_result",
          "data": {
            "text/html": [
              "<div>\n",
              "<style scoped>\n",
              "    .dataframe tbody tr th:only-of-type {\n",
              "        vertical-align: middle;\n",
              "    }\n",
              "\n",
              "    .dataframe tbody tr th {\n",
              "        vertical-align: top;\n",
              "    }\n",
              "\n",
              "    .dataframe thead th {\n",
              "        text-align: right;\n",
              "    }\n",
              "</style>\n",
              "<table border=\"1\" class=\"dataframe\">\n",
              "  <thead>\n",
              "    <tr style=\"text-align: right;\">\n",
              "      <th></th>\n",
              "      <th>Id</th>\n",
              "      <th>Title</th>\n",
              "      <th>Content</th>\n",
              "      <th>Label</th>\n",
              "    </tr>\n",
              "  </thead>\n",
              "  <tbody>\n",
              "    <tr>\n",
              "      <th>0</th>\n",
              "      <td>227464</td>\n",
              "      <td>Netflix is coming to cable boxes, and Amazon i...</td>\n",
              "      <td>if you subscribe to one of three rinky-dink (...</td>\n",
              "      <td>Entertainment</td>\n",
              "    </tr>\n",
              "    <tr>\n",
              "      <th>1</th>\n",
              "      <td>244074</td>\n",
              "      <td>Pharrell, Iranian President React to Tehran 'H...</td>\n",
              "      <td>pharrell, iranian president react to tehran '...</td>\n",
              "      <td>Entertainment</td>\n",
              "    </tr>\n",
              "    <tr>\n",
              "      <th>2</th>\n",
              "      <td>60707</td>\n",
              "      <td>Wildlife service seeks comments</td>\n",
              "      <td>the u.s. fish and wildlife service has reopen...</td>\n",
              "      <td>Technology</td>\n",
              "    </tr>\n",
              "    <tr>\n",
              "      <th>3</th>\n",
              "      <td>27883</td>\n",
              "      <td>Facebook teams up with Storyful to launch 'FB ...</td>\n",
              "      <td>the very nature of social media means it is o...</td>\n",
              "      <td>Technology</td>\n",
              "    </tr>\n",
              "    <tr>\n",
              "      <th>4</th>\n",
              "      <td>169596</td>\n",
              "      <td>Caesars plans US$880 mln New York casino</td>\n",
              "      <td>caesars plans us$880 mln new york casino jul ...</td>\n",
              "      <td>Business</td>\n",
              "    </tr>\n",
              "    <tr>\n",
              "      <th>...</th>\n",
              "      <td>...</td>\n",
              "      <td>...</td>\n",
              "      <td>...</td>\n",
              "      <td>...</td>\n",
              "    </tr>\n",
              "    <tr>\n",
              "      <th>111790</th>\n",
              "      <td>31462</td>\n",
              "      <td>Microsoft requires Office 2013 licensing for s...</td>\n",
              "      <td>in contrast to the muckle of special licenses...</td>\n",
              "      <td>Technology</td>\n",
              "    </tr>\n",
              "    <tr>\n",
              "      <th>111791</th>\n",
              "      <td>100821</td>\n",
              "      <td>Smallpox vials missing since 1950s found in la...</td>\n",
              "      <td>government workers at a research center near ...</td>\n",
              "      <td>Health</td>\n",
              "    </tr>\n",
              "    <tr>\n",
              "      <th>111792</th>\n",
              "      <td>86181</td>\n",
              "      <td>Scientists May Have Just Discovered the Key to...</td>\n",
              "      <td>harvard scientists may have just unlocked the...</td>\n",
              "      <td>Health</td>\n",
              "    </tr>\n",
              "    <tr>\n",
              "      <th>111793</th>\n",
              "      <td>256423</td>\n",
              "      <td>Justin Bieber to plead guilty to DUI</td>\n",
              "      <td>justin bieber to plead guilty to duifri, 13 ju...</td>\n",
              "      <td>Entertainment</td>\n",
              "    </tr>\n",
              "    <tr>\n",
              "      <th>111794</th>\n",
              "      <td>262120</td>\n",
              "      <td>Tracy Morgan upgraded to fair condition after ...</td>\n",
              "      <td>actor and comedian tracy morgan has been upgr...</td>\n",
              "      <td>Entertainment</td>\n",
              "    </tr>\n",
              "  </tbody>\n",
              "</table>\n",
              "<p>111795 rows × 4 columns</p>\n",
              "</div>"
            ],
            "text/plain": [
              "            Id  ...          Label\n",
              "0       227464  ...  Entertainment\n",
              "1       244074  ...  Entertainment\n",
              "2        60707  ...     Technology\n",
              "3        27883  ...     Technology\n",
              "4       169596  ...       Business\n",
              "...        ...  ...            ...\n",
              "111790   31462  ...     Technology\n",
              "111791  100821  ...         Health\n",
              "111792   86181  ...         Health\n",
              "111793  256423  ...  Entertainment\n",
              "111794  262120  ...  Entertainment\n",
              "\n",
              "[111795 rows x 4 columns]"
            ]
          },
          "metadata": {
            "tags": []
          },
          "execution_count": 3
        }
      ]
    },
    {
      "cell_type": "markdown",
      "metadata": {
        "id": "xQvlyIiezK-n"
      },
      "source": [
        "Loading test data"
      ]
    },
    {
      "cell_type": "code",
      "metadata": {
        "colab": {
          "base_uri": "https://localhost:8080/",
          "height": 399
        },
        "id": "LC-CEPOXBFhL",
        "outputId": "13c05f3f-e96d-495a-c2e2-ee3820e01e74"
      },
      "source": [
        "df_test = pd.read_csv('/content/drive/MyDrive/datasets-data analysis/data/q1/test_without_labels.csv')\n",
        "df_test"
      ],
      "execution_count": null,
      "outputs": [
        {
          "output_type": "execute_result",
          "data": {
            "text/html": [
              "<div>\n",
              "<style scoped>\n",
              "    .dataframe tbody tr th:only-of-type {\n",
              "        vertical-align: middle;\n",
              "    }\n",
              "\n",
              "    .dataframe tbody tr th {\n",
              "        vertical-align: top;\n",
              "    }\n",
              "\n",
              "    .dataframe thead th {\n",
              "        text-align: right;\n",
              "    }\n",
              "</style>\n",
              "<table border=\"1\" class=\"dataframe\">\n",
              "  <thead>\n",
              "    <tr style=\"text-align: right;\">\n",
              "      <th></th>\n",
              "      <th>Id</th>\n",
              "      <th>Title</th>\n",
              "      <th>Content</th>\n",
              "    </tr>\n",
              "  </thead>\n",
              "  <tbody>\n",
              "    <tr>\n",
              "      <th>0</th>\n",
              "      <td>262120</td>\n",
              "      <td>Tracy Morgan upgraded to fair condition after ...</td>\n",
              "      <td>actor and comedian tracy morgan has been upgr...</td>\n",
              "    </tr>\n",
              "    <tr>\n",
              "      <th>1</th>\n",
              "      <td>175132</td>\n",
              "      <td>Smartphones Weigh on Samsung Electronics as Gu...</td>\n",
              "      <td>samsung electronics co ltd on tuesday issued u...</td>\n",
              "    </tr>\n",
              "    <tr>\n",
              "      <th>2</th>\n",
              "      <td>218739</td>\n",
              "      <td>FBI denies fumbling testimony on 'X-Men' direc...</td>\n",
              "      <td>michael f. egan iii said in a press conferenc...</td>\n",
              "    </tr>\n",
              "    <tr>\n",
              "      <th>3</th>\n",
              "      <td>253483</td>\n",
              "      <td>Bachelorette 2014 Spoilers: Week 3 Recap ??? E...</td>\n",
              "      <td>i am having mixed emotions for what is about ...</td>\n",
              "    </tr>\n",
              "    <tr>\n",
              "      <th>4</th>\n",
              "      <td>224109</td>\n",
              "      <td>Barack Obama honours Frankie Knuckles in lette...</td>\n",
              "      <td>u.s. president barack obama has paid a specia...</td>\n",
              "    </tr>\n",
              "    <tr>\n",
              "      <th>...</th>\n",
              "      <td>...</td>\n",
              "      <td>...</td>\n",
              "      <td>...</td>\n",
              "    </tr>\n",
              "    <tr>\n",
              "      <th>47907</th>\n",
              "      <td>50348</td>\n",
              "      <td>BMW, Tesla meet to discuss standardizing elect...</td>\n",
              "      <td>june 16, 2014 by edward taylor reutersan emplo...</td>\n",
              "    </tr>\n",
              "    <tr>\n",
              "      <th>47908</th>\n",
              "      <td>255044</td>\n",
              "      <td>Harrison Ford has been filming the seventh Sta...</td>\n",
              "      <td>he may have helped save the galaxy from the ev...</td>\n",
              "    </tr>\n",
              "    <tr>\n",
              "      <th>47909</th>\n",
              "      <td>66502</td>\n",
              "      <td>It's Games, Games, Games As Microsoft Plans To...</td>\n",
              "      <td>less than three months after microsoft had a ...</td>\n",
              "    </tr>\n",
              "    <tr>\n",
              "      <th>47910</th>\n",
              "      <td>10319</td>\n",
              "      <td>App Detail » Microsoft Excel for iPad</td>\n",
              "      <td>app description *** excel is ready for ipad p...</td>\n",
              "    </tr>\n",
              "    <tr>\n",
              "      <th>47911</th>\n",
              "      <td>48751</td>\n",
              "      <td>Starbucks Makes Itself More Addictive With Wir...</td>\n",
              "      <td>soon, you'll be able to recharge at starbucks...</td>\n",
              "    </tr>\n",
              "  </tbody>\n",
              "</table>\n",
              "<p>47912 rows × 3 columns</p>\n",
              "</div>"
            ],
            "text/plain": [
              "           Id  ...                                            Content\n",
              "0      262120  ...   actor and comedian tracy morgan has been upgr...\n",
              "1      175132  ...  samsung electronics co ltd on tuesday issued u...\n",
              "2      218739  ...   michael f. egan iii said in a press conferenc...\n",
              "3      253483  ...   i am having mixed emotions for what is about ...\n",
              "4      224109  ...   u.s. president barack obama has paid a specia...\n",
              "...       ...  ...                                                ...\n",
              "47907   50348  ...  june 16, 2014 by edward taylor reutersan emplo...\n",
              "47908  255044  ...  he may have helped save the galaxy from the ev...\n",
              "47909   66502  ...   less than three months after microsoft had a ...\n",
              "47910   10319  ...   app description *** excel is ready for ipad p...\n",
              "47911   48751  ...   soon, you'll be able to recharge at starbucks...\n",
              "\n",
              "[47912 rows x 3 columns]"
            ]
          },
          "metadata": {
            "tags": []
          },
          "execution_count": 4
        }
      ]
    },
    {
      "cell_type": "code",
      "metadata": {
        "colab": {
          "base_uri": "https://localhost:8080/"
        },
        "id": "PVajrzk1-C6A",
        "outputId": "23197f10-0497-48b5-c79d-a1ef52b0b50e"
      },
      "source": [
        "df.Label.unique()"
      ],
      "execution_count": null,
      "outputs": [
        {
          "output_type": "execute_result",
          "data": {
            "text/plain": [
              "array(['Entertainment', 'Technology', 'Business', 'Health'], dtype=object)"
            ]
          },
          "metadata": {
            "tags": []
          },
          "execution_count": 5
        }
      ]
    },
    {
      "cell_type": "markdown",
      "metadata": {
        "id": "57266DWNzN2z"
      },
      "source": [
        "Checking for duplicate rows"
      ]
    },
    {
      "cell_type": "code",
      "metadata": {
        "colab": {
          "base_uri": "https://localhost:8080/"
        },
        "id": "IaAPEarnsWxf",
        "outputId": "6904c71c-25b5-4c65-80ac-9f6c3caddea4"
      },
      "source": [
        "df.duplicated().unique()"
      ],
      "execution_count": null,
      "outputs": [
        {
          "output_type": "execute_result",
          "data": {
            "text/plain": [
              "array([False])"
            ]
          },
          "metadata": {
            "tags": []
          },
          "execution_count": 6
        }
      ]
    },
    {
      "cell_type": "markdown",
      "metadata": {
        "id": "Fdhw-aH6H5vq"
      },
      "source": [
        "**STOPWORDS**"
      ]
    },
    {
      "cell_type": "code",
      "metadata": {
        "id": "vmQ5041J6l04"
      },
      "source": [
        "from wordcloud import STOPWORDS"
      ],
      "execution_count": null,
      "outputs": []
    },
    {
      "cell_type": "code",
      "metadata": {
        "id": "iuisk-pYD7ZY"
      },
      "source": [
        "stopwords = set(STOPWORDS)\n",
        "stopwords.update([\"said\", \"say\", \"may\", \"says\", \"one\", \"even\", \"now\", \"well\", \"will\"])"
      ],
      "execution_count": null,
      "outputs": []
    },
    {
      "cell_type": "code",
      "metadata": {
        "colab": {
          "base_uri": "https://localhost:8080/"
        },
        "id": "YR7cIDK94Lyj",
        "outputId": "d377b90a-85c4-42e0-86b5-2d34a435e15f"
      },
      "source": [
        "from sklearn.feature_extraction.text import TfidfVectorizer\n",
        "\n",
        "tfidf_vectorizer = TfidfVectorizer(max_features=20000, ngram_range=(1,2), min_df=2, analyzer='word', strip_accents='unicode', decode_error='replace', stop_words = stopwords)\n",
        "tfidf_vectorizer.fit(df['Title']+df['Content'])\n",
        "print(\"some sample features(unique words in the corpus)\",tfidf_vectorizer.get_feature_names()[0:10])\n",
        "print('='*50)\n",
        "tfidf_vect_content = tfidf_vectorizer.transform(df['Content'])"
      ],
      "execution_count": null,
      "outputs": [
        {
          "output_type": "stream",
          "text": [
            "/usr/local/lib/python3.6/dist-packages/sklearn/feature_extraction/text.py:385: UserWarning: Your stop_words may be inconsistent with your preprocessing. Tokenizing the stop words generated tokens ['aren', 'couldn', 'didn', 'doesn', 'don', 'hadn', 'hasn', 'haven', 'isn', 'let', 'll', 'mustn', 're', 'shan', 'shouldn', 've', 'wasn', 'weren', 'won', 'wouldn'] not in stop_words.\n",
            "  'stop_words.' % sorted(inconsistent))\n"
          ],
          "name": "stderr"
        },
        {
          "output_type": "stream",
          "text": [
            "some sample features(unique words in the corpus) ['00', '00 00', '00 pm', '000', '000 000', '000 barrels', '000 bitcoins', '000 cars', '000 copies', '000 employees']\n",
            "==================================================\n"
          ],
          "name": "stdout"
        }
      ]
    },
    {
      "cell_type": "code",
      "metadata": {
        "id": "z4o09FTj3GP5"
      },
      "source": [
        "tfidf_vect_content_test = tfidf_vectorizer.transform(df_test['Content'])"
      ],
      "execution_count": null,
      "outputs": []
    },
    {
      "cell_type": "code",
      "metadata": {
        "colab": {
          "base_uri": "https://localhost:8080/"
        },
        "id": "FWtHWBX05QET",
        "outputId": "382a91cc-f4da-470d-ba9a-007f0770b7fc"
      },
      "source": [
        "print(tfidf_vect_content.shape)"
      ],
      "execution_count": null,
      "outputs": [
        {
          "output_type": "stream",
          "text": [
            "(111795, 10000)\n"
          ],
          "name": "stdout"
        }
      ]
    },
    {
      "cell_type": "code",
      "metadata": {
        "colab": {
          "base_uri": "https://localhost:8080/"
        },
        "id": "NdbYrfeg-GSi",
        "outputId": "bfb641c6-0917-4e02-bb65-b4a57479607a"
      },
      "source": [
        "print(tfidf_vect_content_test.shape)"
      ],
      "execution_count": null,
      "outputs": [
        {
          "output_type": "stream",
          "text": [
            "(47912, 10000)\n"
          ],
          "name": "stdout"
        }
      ]
    },
    {
      "cell_type": "markdown",
      "metadata": {
        "id": "c8pZHpuJKRN0"
      },
      "source": [
        "# Trancated SVD"
      ]
    },
    {
      "cell_type": "code",
      "metadata": {
        "colab": {
          "base_uri": "https://localhost:8080/"
        },
        "id": "wVgYhJVv__CL",
        "outputId": "be4ee572-6aa4-4e55-a766-499f21e30384"
      },
      "source": [
        "from sklearn.decomposition import TruncatedSVD\n",
        "\n",
        "# SVD represent documents and terms in vectors \n",
        "tfidf_svd_model = TruncatedSVD(n_components=500)\n",
        "\n",
        "tfidf_svd_model.fit(tfidf_vect_content)"
      ],
      "execution_count": null,
      "outputs": [
        {
          "output_type": "execute_result",
          "data": {
            "text/plain": [
              "TruncatedSVD(algorithm='randomized', n_components=500, n_iter=5,\n",
              "             random_state=None, tol=0.0)"
            ]
          },
          "metadata": {
            "tags": []
          },
          "execution_count": 17
        }
      ]
    },
    {
      "cell_type": "code",
      "metadata": {
        "colab": {
          "base_uri": "https://localhost:8080/"
        },
        "id": "hDDleOybRT9X",
        "outputId": "84061ceb-0356-4c33-a841-0fb78a279f99"
      },
      "source": [
        "X_tfidf = tfidf_svd_model.transform(tfidf_vect_content)\n",
        "\n",
        "len(tfidf_svd_model.components_)"
      ],
      "execution_count": null,
      "outputs": [
        {
          "output_type": "execute_result",
          "data": {
            "text/plain": [
              "500"
            ]
          },
          "metadata": {
            "tags": []
          },
          "execution_count": 18
        }
      ]
    },
    {
      "cell_type": "markdown",
      "metadata": {
        "id": "CwqPGsQPFMXw"
      },
      "source": [
        "# Classification"
      ]
    },
    {
      "cell_type": "code",
      "metadata": {
        "id": "4I0enM25FLhy"
      },
      "source": [
        "from sklearn.svm import SVC, LinearSVC\n",
        "from sklearn.neighbors import KNeighborsClassifier\n",
        "\n",
        "from sklearn.model_selection import KFold\n",
        "from sklearn.metrics import accuracy_score, f1_score, confusion_matrix, recall_score, roc_auc_score, precision_score\n",
        "\n",
        "from sklearn.metrics import classification_report\n",
        "from sklearn.model_selection import train_test_split\n",
        "\n",
        "\n",
        "y = df['Label']\n",
        "K = 5; # K fold cross validation"
      ],
      "execution_count": null,
      "outputs": []
    },
    {
      "cell_type": "markdown",
      "metadata": {
        "id": "4G8iDSa7V8YG"
      },
      "source": [
        "**KNN (BoW)**"
      ]
    },
    {
      "cell_type": "code",
      "metadata": {
        "colab": {
          "base_uri": "https://localhost:8080/"
        },
        "id": "stOcjqh9OjfU",
        "outputId": "5ccb88bc-4f47-4ea1-a4d9-01c0e8acfe83"
      },
      "source": [
        "kf = KFold(n_splits=5)\n",
        "X = tfidf_vect_content\n",
        "kf.get_n_splits(X)\n",
        "print(kf)\n",
        "\n",
        "accuracy = 0\n",
        "F1_score = 0\n",
        "precision = 0\n",
        "recall = 0\n",
        "\n",
        "for train_index, test_index in kf.split(X):\n",
        "\n",
        "  # print(\"TRAIN:\", train_index, \"TEST:\", test_index)\n",
        "  X_train, X_test = X[train_index], X[test_index]\n",
        "  y_train, y_test = y[train_index], y[test_index]\n",
        "\n",
        "  model = KNeighborsClassifier(n_neighbors=5)\n",
        "  model.fit(X_train, y_train)\n",
        "  y_pred = model.predict(X_test)\n",
        "\n",
        "  accuracy += accuracy_score(y_test, y_pred)\n",
        "  F1_score += f1_score(y_test, y_pred, average='macro') \n",
        "  precision += precision_score(y_test, y_pred, average='macro')\n",
        "  recall += recall_score(y_test, y_pred, average='macro')\n",
        "\n",
        "print(accuracy/K, F1_score/K, precision/K, recall/K)"
      ],
      "execution_count": null,
      "outputs": [
        {
          "output_type": "stream",
          "text": [
            "KFold(n_splits=5, random_state=None, shuffle=False)\n",
            "0.9694530166823203 0.9662307795060622 0.9667014912470094 0.9657788703654884\n"
          ],
          "name": "stdout"
        }
      ]
    },
    {
      "cell_type": "markdown",
      "metadata": {
        "id": "Uh2iIZgTV-1X"
      },
      "source": [
        "**KNN (SVD)**"
      ]
    },
    {
      "cell_type": "code",
      "metadata": {
        "colab": {
          "base_uri": "https://localhost:8080/"
        },
        "id": "utXp3vPlqAIA",
        "outputId": "367f4dd7-1906-4eb8-8d87-316b267fc1af"
      },
      "source": [
        "kf = KFold(n_splits=5)\n",
        "X = X_tfidf\n",
        "kf.get_n_splits(X)\n",
        "print(kf)\n",
        "\n",
        "accuracy = 0\n",
        "F1_score = 0\n",
        "precision = 0\n",
        "recall = 0\n",
        "\n",
        "for train_index, test_index in kf.split(X):\n",
        "\n",
        "  # print(\"TRAIN:\", train_index, \"TEST:\", test_index)\n",
        "  X_train, X_test = X[train_index], X[test_index]\n",
        "  y_train, y_test = y[train_index], y[test_index]\n",
        "\n",
        "  model = KNeighborsClassifier(n_neighbors=5)\n",
        "  model.fit(X_train, y_train)\n",
        "  y_pred = model.predict(X_test)\n",
        "\n",
        "  accuracy += accuracy_score(y_test, y_pred)\n",
        "  F1_score += f1_score(y_test, y_pred, average='macro') \n",
        "  precision += precision_score(y_test, y_pred, average='macro')\n",
        "  recall += recall_score(y_test, y_pred, average='macro')\n",
        "\n",
        "print(accuracy/K, F1_score/K, precision/K, recall/K)"
      ],
      "execution_count": null,
      "outputs": [
        {
          "output_type": "stream",
          "text": [
            "KFold(n_splits=5, random_state=None, shuffle=False)\n",
            "0.9631557761975044 0.9595273062118979 0.9621169405508695 0.9570819207040999\n"
          ],
          "name": "stdout"
        }
      ]
    },
    {
      "cell_type": "markdown",
      "metadata": {
        "id": "enyNc2Q-7pVs"
      },
      "source": [
        "# **Validation accuracy**"
      ]
    },
    {
      "cell_type": "code",
      "metadata": {
        "colab": {
          "base_uri": "https://localhost:8080/"
        },
        "id": "9qTTnRjA70TJ",
        "outputId": "eaff8ee0-8ba9-4db6-f6b8-1e5cce6a38dd"
      },
      "source": [
        "final_model = KNeighborsClassifier(n_neighbors=5)\r\n",
        "final_model.fit(tfidf_vect_content, y)"
      ],
      "execution_count": null,
      "outputs": [
        {
          "output_type": "execute_result",
          "data": {
            "text/plain": [
              "KNeighborsClassifier(algorithm='auto', leaf_size=30, metric='minkowski',\n",
              "                     metric_params=None, n_jobs=None, n_neighbors=5, p=2,\n",
              "                     weights='uniform')"
            ]
          },
          "metadata": {
            "tags": []
          },
          "execution_count": 12
        }
      ]
    },
    {
      "cell_type": "code",
      "metadata": {
        "id": "U88-Oirv8PaJ"
      },
      "source": [
        "final_predictions = final_model.predict(tfidf_vect_content_test)"
      ],
      "execution_count": null,
      "outputs": []
    },
    {
      "cell_type": "code",
      "metadata": {
        "colab": {
          "base_uri": "https://localhost:8080/",
          "height": 399
        },
        "id": "ycbODDula746",
        "outputId": "36064151-5b28-4893-ae2a-80fbd1d4b7af"
      },
      "source": [
        "final_output = pd.DataFrame({\r\n",
        "\r\n",
        "    \"Id\": df_test[\"Id\"], \r\n",
        "    \"Predicted\": final_predictions})\r\n",
        "\r\n",
        "final_output"
      ],
      "execution_count": null,
      "outputs": [
        {
          "output_type": "execute_result",
          "data": {
            "text/html": [
              "<div>\n",
              "<style scoped>\n",
              "    .dataframe tbody tr th:only-of-type {\n",
              "        vertical-align: middle;\n",
              "    }\n",
              "\n",
              "    .dataframe tbody tr th {\n",
              "        vertical-align: top;\n",
              "    }\n",
              "\n",
              "    .dataframe thead th {\n",
              "        text-align: right;\n",
              "    }\n",
              "</style>\n",
              "<table border=\"1\" class=\"dataframe\">\n",
              "  <thead>\n",
              "    <tr style=\"text-align: right;\">\n",
              "      <th></th>\n",
              "      <th>Id</th>\n",
              "      <th>Predicted</th>\n",
              "    </tr>\n",
              "  </thead>\n",
              "  <tbody>\n",
              "    <tr>\n",
              "      <th>0</th>\n",
              "      <td>262120</td>\n",
              "      <td>Entertainment</td>\n",
              "    </tr>\n",
              "    <tr>\n",
              "      <th>1</th>\n",
              "      <td>175132</td>\n",
              "      <td>Business</td>\n",
              "    </tr>\n",
              "    <tr>\n",
              "      <th>2</th>\n",
              "      <td>218739</td>\n",
              "      <td>Entertainment</td>\n",
              "    </tr>\n",
              "    <tr>\n",
              "      <th>3</th>\n",
              "      <td>253483</td>\n",
              "      <td>Entertainment</td>\n",
              "    </tr>\n",
              "    <tr>\n",
              "      <th>4</th>\n",
              "      <td>224109</td>\n",
              "      <td>Entertainment</td>\n",
              "    </tr>\n",
              "    <tr>\n",
              "      <th>...</th>\n",
              "      <td>...</td>\n",
              "      <td>...</td>\n",
              "    </tr>\n",
              "    <tr>\n",
              "      <th>47907</th>\n",
              "      <td>50348</td>\n",
              "      <td>Technology</td>\n",
              "    </tr>\n",
              "    <tr>\n",
              "      <th>47908</th>\n",
              "      <td>255044</td>\n",
              "      <td>Entertainment</td>\n",
              "    </tr>\n",
              "    <tr>\n",
              "      <th>47909</th>\n",
              "      <td>66502</td>\n",
              "      <td>Technology</td>\n",
              "    </tr>\n",
              "    <tr>\n",
              "      <th>47910</th>\n",
              "      <td>10319</td>\n",
              "      <td>Business</td>\n",
              "    </tr>\n",
              "    <tr>\n",
              "      <th>47911</th>\n",
              "      <td>48751</td>\n",
              "      <td>Technology</td>\n",
              "    </tr>\n",
              "  </tbody>\n",
              "</table>\n",
              "<p>47912 rows × 2 columns</p>\n",
              "</div>"
            ],
            "text/plain": [
              "           Id      Predicted\n",
              "0      262120  Entertainment\n",
              "1      175132       Business\n",
              "2      218739  Entertainment\n",
              "3      253483  Entertainment\n",
              "4      224109  Entertainment\n",
              "...       ...            ...\n",
              "47907   50348     Technology\n",
              "47908  255044  Entertainment\n",
              "47909   66502     Technology\n",
              "47910   10319       Business\n",
              "47911   48751     Technology\n",
              "\n",
              "[47912 rows x 2 columns]"
            ]
          },
          "metadata": {
            "tags": []
          },
          "execution_count": 20
        }
      ]
    },
    {
      "cell_type": "code",
      "metadata": {
        "id": "9yzZtzUxa-KR"
      },
      "source": [
        "final_output.to_csv('/content/drive/MyDrive/datasets-data analysis/data/q1/testSet_categories.csv', sep=',', index=False)"
      ],
      "execution_count": null,
      "outputs": []
    }
  ]
}