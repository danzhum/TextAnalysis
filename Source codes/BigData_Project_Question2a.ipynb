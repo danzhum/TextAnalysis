{
  "nbformat": 4,
  "nbformat_minor": 0,
  "metadata": {
    "colab": {
      "name": "BigData_Project_Question2a",
      "provenance": [],
      "collapsed_sections": []
    },
    "kernelspec": {
      "display_name": "Python 3",
      "name": "python3"
    }
  },
  "cells": [
    {
      "cell_type": "markdown",
      "metadata": {
        "id": "3DNmGSU9p4_S"
      },
      "source": [
        "#**Requirement 2: Nearest Neighbor Search and Duplicate Detection**"
      ]
    },
    {
      "cell_type": "markdown",
      "metadata": {
        "id": "KvI_sC23qH7N"
      },
      "source": [
        "## **Question 2α:​ De-Duplication with Locality Sensitive Hashing**"
      ]
    },
    {
      "cell_type": "code",
      "metadata": {
        "id": "sL9uAMzWr-wA"
      },
      "source": [
        "import pandas as pd\n",
        "import numpy as np\n",
        "from time import time"
      ],
      "execution_count": 1,
      "outputs": []
    },
    {
      "cell_type": "code",
      "metadata": {
        "colab": {
          "base_uri": "https://localhost:8080/"
        },
        "id": "3Q0KBWMU0AXD",
        "outputId": "3c8387b9-f01f-4277-ea15-02e0261094e2"
      },
      "source": [
        "from google.colab import drive\n",
        "drive.mount('/content/drive')"
      ],
      "execution_count": 2,
      "outputs": [
        {
          "output_type": "stream",
          "text": [
            "Mounted at /content/drive\n"
          ],
          "name": "stdout"
        }
      ]
    },
    {
      "cell_type": "code",
      "metadata": {
        "colab": {
          "base_uri": "https://localhost:8080/",
          "height": 419
        },
        "id": "7gFJ_r0t0CmJ",
        "outputId": "26d83b34-0d44-4997-e448-e917f9351135"
      },
      "source": [
        "train = pd.read_csv('drive/My Drive/Fall-2020/Big Data/Question2/corpusTrain.csv')\n",
        "train"
      ],
      "execution_count": 3,
      "outputs": [
        {
          "output_type": "execute_result",
          "data": {
            "text/html": [
              "<div>\n",
              "<style scoped>\n",
              "    .dataframe tbody tr th:only-of-type {\n",
              "        vertical-align: middle;\n",
              "    }\n",
              "\n",
              "    .dataframe tbody tr th {\n",
              "        vertical-align: top;\n",
              "    }\n",
              "\n",
              "    .dataframe thead th {\n",
              "        text-align: right;\n",
              "    }\n",
              "</style>\n",
              "<table border=\"1\" class=\"dataframe\">\n",
              "  <thead>\n",
              "    <tr style=\"text-align: right;\">\n",
              "      <th></th>\n",
              "      <th>Id</th>\n",
              "      <th>Content</th>\n",
              "    </tr>\n",
              "  </thead>\n",
              "  <tbody>\n",
              "    <tr>\n",
              "      <th>0</th>\n",
              "      <td>0</td>\n",
              "      <td>How many people are going towards using phones...</td>\n",
              "    </tr>\n",
              "    <tr>\n",
              "      <th>1</th>\n",
              "      <td>1</td>\n",
              "      <td>What audio format should I use for getting aud...</td>\n",
              "    </tr>\n",
              "    <tr>\n",
              "      <th>2</th>\n",
              "      <td>2</td>\n",
              "      <td>What is the corporate culture like at Edwards ...</td>\n",
              "    </tr>\n",
              "    <tr>\n",
              "      <th>3</th>\n",
              "      <td>3</td>\n",
              "      <td>What is the best barbecue in Kansas City?\\n</td>\n",
              "    </tr>\n",
              "    <tr>\n",
              "      <th>4</th>\n",
              "      <td>4</td>\n",
              "      <td>\"Can I combine the output of two bolts to one ...</td>\n",
              "    </tr>\n",
              "    <tr>\n",
              "      <th>...</th>\n",
              "      <td>...</td>\n",
              "      <td>...</td>\n",
              "    </tr>\n",
              "    <tr>\n",
              "      <th>531985</th>\n",
              "      <td>531985</td>\n",
              "      <td>Why is SEO important?\\n</td>\n",
              "    </tr>\n",
              "    <tr>\n",
              "      <th>531986</th>\n",
              "      <td>531986</td>\n",
              "      <td>Who is the best employer for Robotic Process a...</td>\n",
              "    </tr>\n",
              "    <tr>\n",
              "      <th>531987</th>\n",
              "      <td>531987</td>\n",
              "      <td>Is it possible to cure the holes caused by pim...</td>\n",
              "    </tr>\n",
              "    <tr>\n",
              "      <th>531988</th>\n",
              "      <td>531988</td>\n",
              "      <td>How many employees does Infosys have?\\n</td>\n",
              "    </tr>\n",
              "    <tr>\n",
              "      <th>531989</th>\n",
              "      <td>531989</td>\n",
              "      <td>What is the maximum size for an attachment in ...</td>\n",
              "    </tr>\n",
              "  </tbody>\n",
              "</table>\n",
              "<p>531990 rows × 2 columns</p>\n",
              "</div>"
            ],
            "text/plain": [
              "            Id                                            Content\n",
              "0            0  How many people are going towards using phones...\n",
              "1            1  What audio format should I use for getting aud...\n",
              "2            2  What is the corporate culture like at Edwards ...\n",
              "3            3        What is the best barbecue in Kansas City?\\n\n",
              "4            4  \"Can I combine the output of two bolts to one ...\n",
              "...        ...                                                ...\n",
              "531985  531985                            Why is SEO important?\\n\n",
              "531986  531986  Who is the best employer for Robotic Process a...\n",
              "531987  531987  Is it possible to cure the holes caused by pim...\n",
              "531988  531988            How many employees does Infosys have?\\n\n",
              "531989  531989  What is the maximum size for an attachment in ...\n",
              "\n",
              "[531990 rows x 2 columns]"
            ]
          },
          "metadata": {
            "tags": []
          },
          "execution_count": 3
        }
      ]
    },
    {
      "cell_type": "code",
      "metadata": {
        "colab": {
          "base_uri": "https://localhost:8080/",
          "height": 419
        },
        "id": "4fJhRqy00KXP",
        "outputId": "ea3eeefa-2adb-44ef-abda-ef56d0ef6a43"
      },
      "source": [
        "test = pd.read_csv('drive/My Drive/Fall-2020/Big Data/Question2/corpusTest.csv')\n",
        "test"
      ],
      "execution_count": 4,
      "outputs": [
        {
          "output_type": "execute_result",
          "data": {
            "text/html": [
              "<div>\n",
              "<style scoped>\n",
              "    .dataframe tbody tr th:only-of-type {\n",
              "        vertical-align: middle;\n",
              "    }\n",
              "\n",
              "    .dataframe tbody tr th {\n",
              "        vertical-align: top;\n",
              "    }\n",
              "\n",
              "    .dataframe thead th {\n",
              "        text-align: right;\n",
              "    }\n",
              "</style>\n",
              "<table border=\"1\" class=\"dataframe\">\n",
              "  <thead>\n",
              "    <tr style=\"text-align: right;\">\n",
              "      <th></th>\n",
              "      <th>Id</th>\n",
              "      <th>Content</th>\n",
              "    </tr>\n",
              "  </thead>\n",
              "  <tbody>\n",
              "    <tr>\n",
              "      <th>0</th>\n",
              "      <td>0</td>\n",
              "      <td>How do I get good marks in college?\\n</td>\n",
              "    </tr>\n",
              "    <tr>\n",
              "      <th>1</th>\n",
              "      <td>1</td>\n",
              "      <td>Can an android app use SMS only to communicate...</td>\n",
              "    </tr>\n",
              "    <tr>\n",
              "      <th>2</th>\n",
              "      <td>2</td>\n",
              "      <td>What small detail from an Indian movie do you ...</td>\n",
              "    </tr>\n",
              "    <tr>\n",
              "      <th>3</th>\n",
              "      <td>3</td>\n",
              "      <td>Why can not Hindu women be the soldier of Hind...</td>\n",
              "    </tr>\n",
              "    <tr>\n",
              "      <th>4</th>\n",
              "      <td>4</td>\n",
              "      <td>How would you write out twelve lakh twelve tho...</td>\n",
              "    </tr>\n",
              "    <tr>\n",
              "      <th>...</th>\n",
              "      <td>...</td>\n",
              "      <td>...</td>\n",
              "    </tr>\n",
              "    <tr>\n",
              "      <th>5369</th>\n",
              "      <td>5369</td>\n",
              "      <td>Why do we have two eyes?\\n</td>\n",
              "    </tr>\n",
              "    <tr>\n",
              "      <th>5370</th>\n",
              "      <td>5370</td>\n",
              "      <td>What role does music play in our life?\\n</td>\n",
              "    </tr>\n",
              "    <tr>\n",
              "      <th>5371</th>\n",
              "      <td>5371</td>\n",
              "      <td>Which is the best coaching for MP psc?\\n</td>\n",
              "    </tr>\n",
              "    <tr>\n",
              "      <th>5372</th>\n",
              "      <td>5372</td>\n",
              "      <td>Which mail server is used for messaging in AT&amp;...</td>\n",
              "    </tr>\n",
              "    <tr>\n",
              "      <th>5373</th>\n",
              "      <td>5373</td>\n",
              "      <td>What are the programming languages dev uses on...</td>\n",
              "    </tr>\n",
              "  </tbody>\n",
              "</table>\n",
              "<p>5374 rows × 2 columns</p>\n",
              "</div>"
            ],
            "text/plain": [
              "        Id                                            Content\n",
              "0        0              How do I get good marks in college?\\n\n",
              "1        1  Can an android app use SMS only to communicate...\n",
              "2        2  What small detail from an Indian movie do you ...\n",
              "3        3  Why can not Hindu women be the soldier of Hind...\n",
              "4        4  How would you write out twelve lakh twelve tho...\n",
              "...    ...                                                ...\n",
              "5369  5369                         Why do we have two eyes?\\n\n",
              "5370  5370           What role does music play in our life?\\n\n",
              "5371  5371           Which is the best coaching for MP psc?\\n\n",
              "5372  5372  Which mail server is used for messaging in AT&...\n",
              "5373  5373  What are the programming languages dev uses on...\n",
              "\n",
              "[5374 rows x 2 columns]"
            ]
          },
          "metadata": {
            "tags": []
          },
          "execution_count": 4
        }
      ]
    },
    {
      "cell_type": "code",
      "metadata": {
        "colab": {
          "base_uri": "https://localhost:8080/"
        },
        "id": "G8Ps5E134Fwh",
        "outputId": "0ab32fe7-ea45-4f9e-a161-3e2991b3deaa"
      },
      "source": [
        "train.duplicated().unique()"
      ],
      "execution_count": 5,
      "outputs": [
        {
          "output_type": "execute_result",
          "data": {
            "text/plain": [
              "array([False])"
            ]
          },
          "metadata": {
            "tags": []
          },
          "execution_count": 5
        }
      ]
    },
    {
      "cell_type": "code",
      "metadata": {
        "colab": {
          "base_uri": "https://localhost:8080/"
        },
        "id": "UMAYs0w44Mf0",
        "outputId": "762122b9-b190-4eed-cee6-e0bce0c18725"
      },
      "source": [
        "test.duplicated().unique()"
      ],
      "execution_count": 6,
      "outputs": [
        {
          "output_type": "execute_result",
          "data": {
            "text/plain": [
              "array([False])"
            ]
          },
          "metadata": {
            "tags": []
          },
          "execution_count": 6
        }
      ]
    },
    {
      "cell_type": "markdown",
      "metadata": {
        "id": "1FcpBhX3NQea"
      },
      "source": [
        "# **Cosine Similarity**"
      ]
    },
    {
      "cell_type": "code",
      "metadata": {
        "colab": {
          "base_uri": "https://localhost:8080/"
        },
        "id": "2iDEITewwlN_",
        "outputId": "1371f188-c4c9-4ea4-c01b-5823ca6bf2fb"
      },
      "source": [
        "import nltk\n",
        "nltk.download('stopwords')"
      ],
      "execution_count": null,
      "outputs": [
        {
          "output_type": "stream",
          "text": [
            "[nltk_data] Downloading package stopwords to /root/nltk_data...\n",
            "[nltk_data]   Unzipping corpora/stopwords.zip.\n"
          ],
          "name": "stdout"
        },
        {
          "output_type": "execute_result",
          "data": {
            "text/plain": [
              "True"
            ]
          },
          "metadata": {
            "tags": []
          },
          "execution_count": 14
        }
      ]
    },
    {
      "cell_type": "code",
      "metadata": {
        "id": "9P0Buzi9v8Qr"
      },
      "source": [
        "from sklearn.metrics.pairwise import cosine_similarity\n",
        "from sklearn.feature_extraction.text import TfidfVectorizer"
      ],
      "execution_count": 7,
      "outputs": []
    },
    {
      "cell_type": "code",
      "metadata": {
        "id": "UXdNG82h0KiC"
      },
      "source": [
        "tfidf_vectorizer = TfidfVectorizer(max_features = 8000, stop_words = 'english')\n",
        "tfidf_vectorizer.fit(train['Content'])\n",
        "tfidf_vect_content = tfidf_vectorizer.transform(train['Content'])"
      ],
      "execution_count": 8,
      "outputs": []
    },
    {
      "cell_type": "code",
      "metadata": {
        "id": "ildVhBEp5fZ9"
      },
      "source": [
        "tfidf_vectorizer_test = TfidfVectorizer(max_features = 8000, stop_words = 'english')\n",
        "tfidf_vectorizer_test.fit(test['Content'])\n",
        "tfidf_vect_content_test = tfidf_vectorizer.transform(test['Content'])"
      ],
      "execution_count": 9,
      "outputs": []
    },
    {
      "cell_type": "code",
      "metadata": {
        "colab": {
          "background_save": true
        },
        "id": "tOmNMOia46C3",
        "outputId": "3217560f-98a8-4b90-99dd-2b8b93d5f872"
      },
      "source": [
        "duplicates_cos = 0\n",
        "start_time = time()\n",
        "for row in tfidf_vect_content_test:\n",
        "  cos_sim = cosine_similarity(row, tfidf_vect_content)\n",
        "  scores = cos_sim[0]\n",
        "  duplicates_cos += len(scores[scores>0.8])\n",
        "end_time = time()\n",
        "\n",
        "elapsed_cos = end_time - start_time\n",
        "print(\"Number of duplicates with Exact Cosine: \", duplicates_cos)\n",
        "print(\"Execution time for Exact Cosine: \", str(elapsed_cos))"
      ],
      "execution_count": null,
      "outputs": [
        {
          "output_type": "stream",
          "text": [
            "Number of duplicates with Exact Cosine:  1908\n",
            "Execution time for Exact Cosine:  333.0595178604126\n"
          ],
          "name": "stdout"
        }
      ]
    },
    {
      "cell_type": "markdown",
      "metadata": {
        "id": "tIDGZF4lvpSo"
      },
      "source": [
        "# **LSH Cosine**"
      ]
    },
    {
      "cell_type": "code",
      "metadata": {
        "id": "E0eLARQwxiVo"
      },
      "source": [
        "from collections import defaultdict\n",
        "from scipy.sparse import vstack\n",
        "\n",
        "def train_lsh(X_tfidf, n_vectors, seed=None):    \n",
        "    if seed is not None:\n",
        "        np.random.seed(seed)\n",
        "\n",
        "    dim = X_tfidf.shape[1]\n",
        "    random_vectors = np.random.randn(dim, n_vectors)  \n",
        "\n",
        "    # partition data points into bins,\n",
        "    # and encode bin index bits into integers\n",
        "    bin_indices_bits = X_tfidf.dot(random_vectors) >= 0\n",
        "    powers_of_two = 1 << np.arange(n_vectors - 1, -1, step=-1)\n",
        "    bin_indices = bin_indices_bits.dot(powers_of_two)\n",
        "\n",
        "    # update `table` so that `table[i]` is the list of document ids with bin index equal to i\n",
        "    table = defaultdict(list)\n",
        "    for idx, bin_index in enumerate(bin_indices):\n",
        "        table[bin_index].append(idx)\n",
        "    bin_size = len(table.keys())\n",
        "    matrices = [None] * bin_size\n",
        "\n",
        "    # create new sparse matrices for each bean\n",
        "    for key in table:\n",
        "      items_in_a_bin = table[key]\n",
        "      # print(len(items_in_a_bin))\n",
        "      matrix = X_tfidf[items_in_a_bin[0]]\n",
        "      # print(matrix)\n",
        "      for t in items_in_a_bin[1:]:\n",
        "        matrix = vstack([matrix, X_tfidf[t]])\n",
        "      matrices[key] = matrix\n",
        "\n",
        "    # note that we're storing the bin_indices here\n",
        "    # so we can do some ad-hoc checking with it,\n",
        "    # this isn't actually required\n",
        "    model = {'table': table,\n",
        "             'n_vectors': n_vectors,\n",
        "             'random_vectors': random_vectors,\n",
        "             'bin_indices': bin_indices,\n",
        "             'bin_indices_bits': bin_indices_bits,\n",
        "             'matrices': matrices}\n",
        "\n",
        "    return model"
      ],
      "execution_count": null,
      "outputs": []
    },
    {
      "cell_type": "code",
      "metadata": {
        "id": "dpmF8kpHakIQ"
      },
      "source": [
        "def get_duplicates_lsh(X_tfidf, model, threshold):  \n",
        "\n",
        "  duplicates = 0\n",
        "\n",
        "  for row in X_tfidf:\n",
        "    bin_indices_bits = row.dot(model['random_vectors']) >= 0\n",
        "    powers_of_two = 1 << np.arange(model['n_vectors'] - 1, -1, step=-1)\n",
        "    bin_indices = bin_indices_bits.dot(powers_of_two)[0]\n",
        "    cos_sim = cosine_similarity(row, model['matrices'][bin_indices])\n",
        "    scores = cos_sim[0]\n",
        "    duplicates += len(scores[scores>threshold])\n",
        "  return duplicates"
      ],
      "execution_count": null,
      "outputs": []
    },
    {
      "cell_type": "code",
      "metadata": {
        "id": "gmWN9dPEgEY8",
        "colab": {
          "base_uri": "https://localhost:8080/"
        },
        "outputId": "4b3039db-75d0-41eb-c06e-77e31d99fc43"
      },
      "source": [
        "LSH_models = [None]*10\n",
        "for k in range(1, 11):\n",
        "  n_vectors = k\n",
        "  start_time = time()\n",
        "  LSH_models[k-1] = train_lsh(tfidf_vect_content, n_vectors, seed=143)\n",
        "  end_time = time()\n",
        "  build_time_LSHcos = end_time - start_time\n",
        "  print(\"LSH-Cosine build time with parameter K =\", k, \"is\", build_time_LSHcos, \"\\n\")\n",
        "  LSH_models.append(LSHCosine)"
      ],
      "execution_count": null,
      "outputs": [
        {
          "output_type": "stream",
          "text": [
            "LSH-Cosine build time with parameter K = 1 is 880.6421494483948 \n",
            "\n",
            "LSH-Cosine build time with parameter K = 2 is 460.0274920463562 \n",
            "\n",
            "LSH-Cosine build time with parameter K = 3 is 288.79246187210083 \n",
            "\n",
            "LSH-Cosine build time with parameter K = 4 is 197.69322443008423 \n",
            "\n",
            "LSH-Cosine build time with parameter K = 5 is 142.4743993282318 \n",
            "\n",
            "LSH-Cosine build time with parameter K = 6 is 110.5415632724762 \n",
            "\n",
            "LSH-Cosine build time with parameter K = 7 is 101.41950559616089 \n",
            "\n",
            "LSH-Cosine build time with parameter K = 8 is 98.83390665054321 \n",
            "\n",
            "LSH-Cosine build time with parameter K = 9 is 98.75844717025757 \n",
            "\n",
            "LSH-Cosine build time with parameter K = 10 is 98.37308835983276 \n",
            "\n"
          ],
          "name": "stdout"
        }
      ]
    },
    {
      "cell_type": "code",
      "metadata": {
        "colab": {
          "base_uri": "https://localhost:8080/"
        },
        "id": "dOjdZCA_g68C",
        "outputId": "b3d869d2-7cc9-44a4-f132-bf41ce2c5eb0"
      },
      "source": [
        "threshold = 0.8\n",
        "\n",
        "for k in range(1, 11):\n",
        "  start_time = time()\n",
        "  duplicates_LSHcos = get_duplicates_lsh(tfidf_vect_content_test, LSH_models[k-1], threshold)\n",
        "  end_time = time()\n",
        "  query_time_LSHcos = end_time - start_time\n",
        "  print(\"LSH query time with parameter K =\", k, \"is\", query_time_LSHcos, \"and the number duplicates =\", duplicates_LSHcos, \"\\n\")"
      ],
      "execution_count": null,
      "outputs": [
        {
          "output_type": "stream",
          "text": [
            "LSH query time with parameter K = 1 is 196.07279872894287 and the number duplicates = 1630 \n",
            "\n",
            "LSH query time with parameter K = 2 is 91.49265551567078 and the number duplicates = 1552 \n",
            "\n",
            "LSH query time with parameter K = 3 is 42.14195442199707 and the number duplicates = 1387 \n",
            "\n",
            "LSH query time with parameter K = 4 is 21.633859634399414 and the number duplicates = 1211 \n",
            "\n",
            "LSH query time with parameter K = 5 is 12.589418411254883 and the number duplicates = 888 \n",
            "\n",
            "LSH query time with parameter K = 6 is 8.332197189331055 and the number duplicates = 944 \n",
            "\n",
            "LSH query time with parameter K = 7 is 6.028832674026489 and the number duplicates = 832 \n",
            "\n",
            "LSH query time with parameter K = 8 is 4.802473306655884 and the number duplicates = 720 \n",
            "\n",
            "LSH query time with parameter K = 9 is 4.349105358123779 and the number duplicates = 679 \n",
            "\n",
            "LSH query time with parameter K = 10 is 4.127082824707031 and the number duplicates = 656 \n",
            "\n"
          ],
          "name": "stdout"
        }
      ]
    },
    {
      "cell_type": "markdown",
      "metadata": {
        "id": "xE5g-kusfy2-"
      },
      "source": [
        "# **Jaccard similarity**"
      ]
    },
    {
      "cell_type": "code",
      "metadata": {
        "colab": {
          "base_uri": "https://localhost:8080/"
        },
        "id": "FeJD-hU1I6k7",
        "outputId": "517111ed-de61-4796-c68e-fbf05772c64f"
      },
      "source": [
        "import nltk\n",
        "nltk.download('punkt')\n",
        "nltk.download('stopwords')"
      ],
      "execution_count": null,
      "outputs": [
        {
          "output_type": "stream",
          "text": [
            "[nltk_data] Downloading package punkt to /root/nltk_data...\n",
            "[nltk_data]   Unzipping tokenizers/punkt.zip.\n"
          ],
          "name": "stdout"
        },
        {
          "output_type": "execute_result",
          "data": {
            "text/plain": [
              "True"
            ]
          },
          "metadata": {
            "tags": []
          },
          "execution_count": 1
        }
      ]
    },
    {
      "cell_type": "markdown",
      "metadata": {
        "id": "dENavFo3I9Jv"
      },
      "source": [
        "**Data preprocessing**"
      ]
    },
    {
      "cell_type": "code",
      "metadata": {
        "id": "Ku0OuoaHLLv8"
      },
      "source": [
        "from nltk.tokenize import word_tokenize\n",
        "from nltk.corpus import stopwords\n",
        "\n",
        "stop_words = stopwords.words('english')\n",
        "\n",
        "def data_preprocessing(text):\n",
        "  #Split into Words\n",
        "  tokens = word_tokenize(text)\n",
        "\n",
        "  #Lowercase\n",
        "  words = [w.lower() for w in tokens]\n",
        "\n",
        "  #Filter Out Punctuation\n",
        "  words = [word for word in words if word.isalnum()]\n",
        "\n",
        "  #Filter out Stop Words\n",
        "  words = [w for w in words if not w in stop_words]\n",
        "  \n",
        "  return words"
      ],
      "execution_count": null,
      "outputs": []
    },
    {
      "cell_type": "code",
      "metadata": {
        "id": "pqbYm-Q2mbf1"
      },
      "source": [
        "train_content = train[\"Content\"]\n",
        "test_content = test[\"Content\"]"
      ],
      "execution_count": null,
      "outputs": []
    },
    {
      "cell_type": "code",
      "metadata": {
        "id": "m-y_-q-PYHKm"
      },
      "source": [
        "preprocessed_test, preprocessed_train = [], []\n",
        "for v in train_content:\n",
        "  prep_v = data_preprocessing(v)\n",
        "  if(len(prep_v) > 0):\n",
        "    preprocessed_train.append(prep_v)\n",
        "\n",
        "for t in test_content:\n",
        "  prep_t = data_preprocessing(t)\n",
        "  if(len(prep_t) > 0):\n",
        "    preprocessed_test.append(prep_t)"
      ],
      "execution_count": null,
      "outputs": []
    },
    {
      "cell_type": "markdown",
      "metadata": {
        "id": "wBCHNG09JExJ"
      },
      "source": [
        "**Finding the number of duplicates using Jaccard Similarity**"
      ]
    },
    {
      "cell_type": "code",
      "metadata": {
        "id": "Km8pGktQNmQf"
      },
      "source": [
        "def jaccard_similarity(set1, set2): \n",
        "\n",
        "    set1, set2 = set(set1), set(set2)\n",
        "    # Find the intersection\n",
        "    intersection = set1.intersection(set2)\n",
        "    # Find the union\n",
        "    union = set1.union(set2)\n",
        "    # Calculate Jaccard similarity score \n",
        "    # using length of intersection set divided by length of union set\n",
        "    return float(len(intersection)) / len(union)"
      ],
      "execution_count": null,
      "outputs": []
    },
    {
      "cell_type": "code",
      "metadata": {
        "colab": {
          "base_uri": "https://localhost:8080/"
        },
        "id": "eA_osSFPOVlC",
        "outputId": "7ca8310d-bd55-496c-db5f-dc042f53a907"
      },
      "source": [
        "from time import time\n",
        "\n",
        "duplicates_jac = 0\n",
        "\n",
        "start_time = time()\n",
        "\n",
        "for x1 in preprocessed_test:\n",
        "  for x2 in preprocessed_train:\n",
        "    jak_sim = jaccard_similarity(x1, x2)\n",
        "    if(jak_sim > 0.8):\n",
        "      duplicates_jac += 1\n",
        "\n",
        "end_time = time()\n",
        "print(\"Number of duplicates with Exact-Jaccard: \", duplicates_jac)\n",
        "elapsed_jac = end_time-start_time\n",
        "print(\"Execution time with Exact-Jaccard: \", str(elapsed_jac))"
      ],
      "execution_count": null,
      "outputs": [
        {
          "output_type": "stream",
          "text": [
            "Number of duplicates with Exact-Jaccard:  2191\n",
            "Execution time with Exact-Jaccard:  5321.060403108597\n"
          ],
          "name": "stdout"
        }
      ]
    },
    {
      "cell_type": "markdown",
      "metadata": {
        "id": "u7RlKTdHeyjP"
      },
      "source": [
        "# Min-Hash Jaccard"
      ]
    },
    {
      "cell_type": "code",
      "metadata": {
        "id": "4b5v0Tgn4lhz"
      },
      "source": [
        "train_content = train[\"Content\"]\n",
        "test_content = test[\"Content\"]"
      ],
      "execution_count": null,
      "outputs": []
    },
    {
      "cell_type": "code",
      "metadata": {
        "colab": {
          "base_uri": "https://localhost:8080/"
        },
        "id": "eW0B8haMY3gf",
        "outputId": "405db839-d6b3-4594-86fe-ca7178b563d3"
      },
      "source": [
        "!pip install datasketch"
      ],
      "execution_count": null,
      "outputs": [
        {
          "output_type": "stream",
          "text": [
            "Collecting datasketch\n",
            "\u001b[?25l  Downloading https://files.pythonhosted.org/packages/8d/35/3e39356d97dc67c4bddaddb51693c20a6eb61e535ce5be09d3755ba2b823/datasketch-1.5.3-py2.py3-none-any.whl (67kB)\n",
            "\r\u001b[K     |████▉                           | 10kB 15.3MB/s eta 0:00:01\r\u001b[K     |█████████▊                      | 20kB 19.2MB/s eta 0:00:01\r\u001b[K     |██████████████▋                 | 30kB 11.4MB/s eta 0:00:01\r\u001b[K     |███████████████████▌            | 40kB 8.9MB/s eta 0:00:01\r\u001b[K     |████████████████████████▎       | 51kB 8.3MB/s eta 0:00:01\r\u001b[K     |█████████████████████████████▏  | 61kB 8.0MB/s eta 0:00:01\r\u001b[K     |████████████████████████████████| 71kB 4.9MB/s \n",
            "\u001b[?25hRequirement already satisfied: numpy>=1.11 in /usr/local/lib/python3.6/dist-packages (from datasketch) (1.19.5)\n",
            "Installing collected packages: datasketch\n",
            "Successfully installed datasketch-1.5.3\n"
          ],
          "name": "stdout"
        }
      ]
    },
    {
      "cell_type": "code",
      "metadata": {
        "id": "c1gT5p27YnQF"
      },
      "source": [
        "def build_MinHashLSH(lsh, permutations):\n",
        "  minhash = []\n",
        "\n",
        "  for v in train_content:\n",
        "    x = data_preprocessing(v)\n",
        "    s = set(x)\n",
        "    m = MinHash(num_perm=permutations)\n",
        "    for d in s:\n",
        "      m.update(d.encode('utf8'))\n",
        "    minhash.append(m)\n",
        "\n",
        "  for i,m in enumerate(minhash):\n",
        "    lsh.insert(i,m)\n",
        "\n",
        "  return lsh"
      ],
      "execution_count": null,
      "outputs": []
    },
    {
      "cell_type": "code",
      "metadata": {
        "id": "PZp78pT_bGrm"
      },
      "source": [
        "def find_dupliactes(lsh, permutations):\n",
        "  dup = 0\n",
        "\n",
        "  for t in test_content:\n",
        "    x = data_preprocessing(t)\n",
        "    s = set(x)\n",
        "    m = MinHash(num_perm=permutations)\n",
        "    for d in s:\n",
        "      m.update(d.encode('utf8'))\n",
        "    result = lsh.query(m)\n",
        "    dup += len(result)\n",
        "\n",
        "  return dup"
      ],
      "execution_count": null,
      "outputs": []
    },
    {
      "cell_type": "code",
      "metadata": {
        "colab": {
          "base_uri": "https://localhost:8080/"
        },
        "id": "R2kjpR_8ZEZ5",
        "outputId": "892b1a66-b06c-4e83-b333-9adc8c8bdaa8"
      },
      "source": [
        "from datasketch import MinHash, MinHashLSH\n",
        "duplicates = []\n",
        "for p in [16, 32, 64]:\n",
        "  lsh = MinHashLSH(threshold=0.8, num_perm=p)\n",
        "  \n",
        "  start_time = time()\n",
        "  lsh = build_MinHashLSH(lsh, p)\n",
        "  end_time = time()\n",
        "  build_time_LSHjac = end_time - start_time\n",
        "  print(\"LSH-Jaccard build time with the number of permutations p =\", p, \"is\", build_time_LSHjac, \"\\n\")\n",
        "\n",
        "  start_time = time()\n",
        "  duplicates_LSHjac = find_dupliactes(lsh, p)\n",
        "  end_time = time()\n",
        "  query_time_LSHjac = end_time - start_time\n",
        "  print(\"LSH-Jaccard query time with the number of permutations p =\", p, \"is\", query_time_LSHjac, \"and the number duplicates =\", duplicates_LSHjac, \"\\n\")"
      ],
      "execution_count": null,
      "outputs": [
        {
          "output_type": "stream",
          "text": [
            "LSH-Jaccard build time with the number of permutations p = 16 is 423.3177146911621 \n",
            "\n",
            "LSH-Jaccard query time with the number of permutations p = 16 is 4.397579669952393 and the number duplicates = 8547 \n",
            "\n",
            "LSH-Jaccard build time with the number of permutations p = 32 is 489.6985549926758 \n",
            "\n",
            "LSH-Jaccard query time with the number of permutations p = 32 is 4.9695165157318115 and the number duplicates = 7778 \n",
            "\n",
            "LSH-Jaccard build time with the number of permutations p = 64 is 625.1319687366486 \n",
            "\n",
            "LSH-Jaccard query time with the number of permutations p = 64 is 6.382096529006958 and the number duplicates = 7910 \n",
            "\n"
          ],
          "name": "stdout"
        }
      ]
    }
  ]
}